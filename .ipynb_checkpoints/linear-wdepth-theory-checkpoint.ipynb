{
 "cells": [
  {
   "cell_type": "markdown",
   "metadata": {},
   "source": [
    "# importing"
   ]
  },
  {
   "cell_type": "code",
   "execution_count": 1,
   "metadata": {},
   "outputs": [],
   "source": [
    "import pandas as pd\n",
    "import scipy as sp\n",
    "from scipy import stats\n",
    "import matplotlib.pyplot as plt\n",
    "import numpy as np\n",
    "import emcee"
   ]
  },
  {
   "cell_type": "code",
   "execution_count": 2,
   "metadata": {},
   "outputs": [],
   "source": [
    "import lmfit as lf"
   ]
  },
  {
   "cell_type": "markdown",
   "metadata": {},
   "source": [
    "# setup"
   ]
  },
  {
   "cell_type": "code",
   "execution_count": 3,
   "metadata": {},
   "outputs": [],
   "source": [
    "def watervisc(temp, a, b):\n",
    "    return(a*temp+b)"
   ]
  },
  {
   "cell_type": "code",
   "execution_count": 4,
   "metadata": {},
   "outputs": [],
   "source": [
    "water_model = lf.Model(watervisc)"
   ]
  },
  {
   "cell_type": "markdown",
   "metadata": {},
   "source": [
    "# testing\n",
    "## importing data manually for test fits"
   ]
  },
  {
   "cell_type": "code",
   "execution_count": 5,
   "metadata": {},
   "outputs": [
    {
     "name": "stdout",
     "output_type": "stream",
     "text": [
      "[0.000329 0.000311 0.000299 0.000261 0.000252] [1.00000000e+12 2.50000000e+11 1.11111111e+11 1.00000000e+12\n",
      " 2.50000000e+11] [293.15 298.15 303.15 313.15 323.15]\n"
     ]
    }
   ],
   "source": [
    "wv_data = np.array([0.329, 0.311, 0.299, 0.261, 0.252])/1000\n",
    "wv_weights = (np.array([0.001,0.002,0.003,0.001,0.002])/1000)**-2\n",
    "temps = np.array([20,25,30,40,50])+273.15\n",
    "print(wv_data, wv_weights, temps)"
   ]
  },
  {
   "cell_type": "code",
   "execution_count": 6,
   "metadata": {},
   "outputs": [
    {
     "data": {
      "text/html": [
       "<table><tr><th> name </th><th> value </th><th> initial value </th><th> min </th><th> max </th><th> vary </th></tr><tr><td> a </td><td> -1.00000000 </td><td> None </td><td>        -inf </td><td>         inf </td><td> True </td></tr><tr><td> b </td><td>  1.0000e-03 </td><td> None </td><td>        -inf </td><td>         inf </td><td> True </td></tr></table>"
      ],
      "text/plain": [
       "Parameters([('a', <Parameter 'a', value=-1, bounds=[-inf:inf]>),\n",
       "            ('b', <Parameter 'b', value=0.001, bounds=[-inf:inf]>)])"
      ]
     },
     "execution_count": 6,
     "metadata": {},
     "output_type": "execute_result"
    }
   ],
   "source": [
    "params = water_model.make_params(a=-1, b=0.001)\n",
    "params"
   ]
  },
  {
   "cell_type": "code",
   "execution_count": 7,
   "metadata": {},
   "outputs": [
    {
     "data": {
      "text/html": [
       "<h2> Model</h2> Model(watervisc) <h2>Fit Statistics</h2><table><tr><td>fitting method</td><td>leastsq</td><td></td></tr><tr><td># function evals</td><td>9</td><td></td></tr><tr><td># data points</td><td>5</td><td></td></tr><tr><td># variables</td><td>2</td><td></td></tr><tr><td>chi-square</td><td> 3.3982e+13</td><td></td></tr><tr><td>reduced chi-square</td><td> 1.1327e+13</td><td></td></tr><tr><td>Akaike info crit.</td><td> 151.737077</td><td></td></tr><tr><td>Bayesian info crit.</td><td> 150.955953</td><td></td></tr></table><h2>Variables</h2><table><tr><th> name </th><th> value </th><th> standard error </th><th> relative error </th><th> initial value </th><th> min </th><th> max </th><th> vary </th></tr><tr><td> a </td><td> -3.2634e-06 </td><td>  2.2380e-07 </td><td> (6.86%) </td><td> -1 </td><td>        -inf </td><td>         inf </td><td> True </td></tr><tr><td> b </td><td>  0.00128498 </td><td>  6.7983e-05 </td><td> (5.29%) </td><td> 0.001 </td><td>        -inf </td><td>         inf </td><td> True </td></tr></table><h2>Correlations (unreported correlations are < 0.100)</h2><table><tr><td>a</td><td>b</td><td>-0.9994</td></tr></table>"
      ],
      "text/plain": [
       "<lmfit.model.ModelResult at 0x7fa2f277b520>"
      ]
     },
     "execution_count": 7,
     "metadata": {},
     "output_type": "execute_result"
    }
   ],
   "source": [
    "result = water_model.fit(wv_data, params, weights = wv_weights, temp=temps)\n",
    "result"
   ]
  },
  {
   "cell_type": "markdown",
   "metadata": {},
   "source": [
    "# importing water data\n",
    "from same source as Zgorski thesis: values and uncertainties were read directly off of plot:\n",
    "I really only needed the best-fit line so these aren't *perfect*... I was just reading them\n",
    "by eye off of the plot"
   ]
  },
  {
   "cell_type": "code",
   "execution_count": 8,
   "metadata": {},
   "outputs": [
    {
     "data": {
      "text/plain": [
       "[<matplotlib.lines.Line2D at 0x7fa2f40eac40>]"
      ]
     },
     "execution_count": 8,
     "metadata": {},
     "output_type": "execute_result"
    },
    {
     "data": {
      "image/png": "[encoded data removed]",
      "text/plain": [
       "<Figure size 432x288 with 1 Axes>"
      ]
     },
     "metadata": {
      "needs_background": "light"
     },
     "output_type": "display_data"
    }
   ],
   "source": [
    "plt.errorbar(x = temps, y = wv_data, yerr = wv_weights**(-1/2),\n",
    "             marker='.', ls='')\n",
    "plt.plot(temps, result.best_fit,'.--')"
   ]
  },
  {
   "cell_type": "code",
   "execution_count": 9,
   "metadata": {},
   "outputs": [
    {
     "data": {
      "text/html": [
       "<h2> Model</h2> Model(watervisc) <h2>Fit Statistics</h2><table><tr><td>fitting method</td><td>leastsq</td><td></td></tr><tr><td># function evals</td><td>9</td><td></td></tr><tr><td># data points</td><td>5</td><td></td></tr><tr><td># variables</td><td>2</td><td></td></tr><tr><td>chi-square</td><td> 3.3982e+13</td><td></td></tr><tr><td>reduced chi-square</td><td> 1.1327e+13</td><td></td></tr><tr><td>Akaike info crit.</td><td> 151.737077</td><td></td></tr><tr><td>Bayesian info crit.</td><td> 150.955953</td><td></td></tr></table><h2>Variables</h2><table><tr><th> name </th><th> value </th><th> standard error </th><th> relative error </th><th> initial value </th><th> min </th><th> max </th><th> vary </th></tr><tr><td> a </td><td> -3.2634e-06 </td><td>  2.2380e-07 </td><td> (6.86%) </td><td> -1 </td><td>        -inf </td><td>         inf </td><td> True </td></tr><tr><td> b </td><td>  0.00128498 </td><td>  6.7983e-05 </td><td> (5.29%) </td><td> 0.001 </td><td>        -inf </td><td>         inf </td><td> True </td></tr></table><h2>Correlations (unreported correlations are < 0.100)</h2><table><tr><td>a</td><td>b</td><td>-0.9994</td></tr></table>"
      ],
      "text/plain": [
       "<lmfit.model.ModelResult at 0x7fa2f277b520>"
      ]
     },
     "execution_count": 9,
     "metadata": {},
     "output_type": "execute_result"
    }
   ],
   "source": [
    "result"
   ]
  },
  {
   "cell_type": "code",
   "execution_count": 10,
   "metadata": {},
   "outputs": [
    {
     "name": "stdout",
     "output_type": "stream",
     "text": [
      "water viscosity in GODDAMN SI UNITS at 311 K is\n",
      " 0.0002700469960938935 \n",
      "± 3.3960553896356527e-06\n"
     ]
    }
   ],
   "source": [
    "print('water viscosity in GODDAMN SI UNITS at 311 K is\\n',\n",
    "    result.eval(temp=311),'\\n±',result.eval_uncertainty(temp=311)[0]\n",
    ")\n",
    "\n",
    "wv311 = result.eval(temp=311)\n",
    "wv311sig = result.eval_uncertainty(temp=311)[0]"
   ]
  },
  {
   "cell_type": "code",
   "execution_count": 11,
   "metadata": {},
   "outputs": [],
   "source": [
    "def etatot(box_height, membrane_thickness, delta, water_visc, \n",
    "           membrane_bulk_visc):\n",
    "    h = membrane_thickness\n",
    "    H = box_height\n",
    "    etaw = water_visc\n",
    "    etamb = membrane_bulk_visc\n",
    "    return(\n",
    "        (\n",
    "            (h+delta)*etamb + (H-h-delta)*etaw\n",
    "        )\n",
    "        /H\n",
    "    )"
   ]
  },
  {
   "cell_type": "code",
   "execution_count": 12,
   "metadata": {},
   "outputs": [],
   "source": [
    "visc_model = lf.Model(etatot)"
   ]
  },
  {
   "cell_type": "code",
   "execution_count": 13,
   "metadata": {},
   "outputs": [
    {
     "name": "stdout",
     "output_type": "stream",
     "text": [
      "['membrane_thickness', 'delta', 'water_visc', 'membrane_bulk_visc'] ['box_height']\n"
     ]
    }
   ],
   "source": [
    "print(visc_model.param_names, visc_model.independent_vars)"
   ]
  },
  {
   "cell_type": "markdown",
   "metadata": {},
   "source": [
    "# importing actual data\n",
    "honestly, importing this by hand was the easiest. Just 15 values was easy enough,\n",
    "as I wasn't sure how to do it off the top of my head."
   ]
  },
  {
   "cell_type": "code",
   "execution_count": 14,
   "metadata": {},
   "outputs": [
    {
     "name": "stdout",
     "output_type": "stream",
     "text": [
      "3.795145776645311e-09 \n",
      " 1.0379613691951681e-12\n"
     ]
    }
   ],
   "source": [
    "thicknesses = np.array([\n",
    "    3.791365953109072e-09, 3.793227319062182e-09, 3.789859327217126e-09, 3.789746177370031e-09,\n",
    "    3.794218144750254e-09, 3.793772680937818e-09, 3.794261977573905e-09, 3.793172273190622e-09,\n",
    "    3.793691131498471e-09, 3.7992538071065995e-09, 3.8016395939086296e-09, 3.7984365482233506e-09,\n",
    "    3.799421319796955e-09, 3.799974619289341e-09, \n",
    "])\n",
    "\n",
    "print(np.mean(thicknesses),'\\n',\n",
    "sp.stats.sem(thicknesses))"
   ]
  },
  {
   "cell_type": "markdown",
   "metadata": {},
   "source": [
    "The reason the following block divides by the membrane thickness: the original calculation to find viscosity\n",
    "*multiplied* by thickness ($\\eta^{2d}=h\\eta^{3d}$). This is accurate to about 1 part in 3000."
   ]
  },
  {
   "cell_type": "code",
   "execution_count": 15,
   "metadata": {},
   "outputs": [
    {
     "name": "stdout",
     "output_type": "stream",
     "text": [
      "[8.3461920e-09 1.3226590e-08 1.5338832e-08] [0.00194641 0.00132132 0.00119496] [5.28050612e-05 3.26894519e-05 2.92290673e-05]\n"
     ]
    }
   ],
   "source": [
    "heights = np.array([\n",
    "    np.mean([8.34509, 8.34523, 8.34752, 8.34669, 8.34643]),\n",
    "    np.mean([13.22519, 13.22604, 13.22597, 13.22885, 13.22690]),\n",
    "    np.mean([15.34102, 15.33969, 15.33675, 15.33744, 15.33926])\n",
    "])*1e-9\n",
    "\n",
    "m_thickness = np.mean(thicknesses)\n",
    "\n",
    "totalviscs = np.array([7.386920650629981e-12, 5.0145929443229125e-12,\n",
    "                      4.535046899004862e-12])/m_thickness\n",
    "\n",
    "visc_uncs = np.array([2.004029051264935e-13, 1.2406123522823227e-13, \n",
    "                      1.1092857116781911e-13])/m_thickness\n",
    "\n",
    "visc_weights = (visc_uncs*np.sqrt(5-1))**-2\n",
    "\n",
    "print(heights, totalviscs, visc_uncs)"
   ]
  },
  {
   "cell_type": "code",
   "execution_count": 16,
   "metadata": {},
   "outputs": [],
   "source": [
    "eta_params = visc_model.make_params(\n",
    "    membrane_thickness = 3.78e-9,\n",
    "    delta = 1e-9,\n",
    "    water_visc = wv311,\n",
    "    membrane_bulk_visc = wv311*10\n",
    ")"
   ]
  },
  {
   "cell_type": "markdown",
   "metadata": {},
   "source": [
    "The following cell, marked with `###HERE` shows the value i was actually manipulating for the fit reruns\n",
    "in order to find the dependence of the viscosity output on assumed membrane thickness.\n",
    "\n",
    "Fun fact, if you tell this system that the membrane is 1 meter thick, the shear viscosity only goes up by about a factor of 5, so that's cool."
   ]
  },
  {
   "cell_type": "code",
   "execution_count": 17,
   "metadata": {},
   "outputs": [],
   "source": [
    "eta_params['delta'] = lf.Parameter(name = 'delta', min = 0, value = 0,\n",
    "                                   max = 100, vary=False)\n",
    "eta_params['water_visc'] = lf.Parameter(name = 'water_visc', min = wv311 - 5*wv311sig,\n",
    "                                        max = wv311 + 5*wv311sig, value = wv311, vary=False)\n",
    "eta_params['membrane_thickness'] = lf.Parameter(name = 'membrane_thickness', \n",
    "#                                                 value = np.mean(thicknesses), \n",
    "                                                value = 4e-9, ###HERE\n",
    "                                                vary=False)"
   ]
  },
  {
   "cell_type": "markdown",
   "metadata": {},
   "source": [
    "i'm using emcee (monte carlo maximum likelihood regression) even though it takes slightly longer.\n",
    "i was convinced that this is the best method (unless i really need speed) by Federica Bianco."
   ]
  },
  {
   "cell_type": "code",
   "execution_count": 18,
   "metadata": {},
   "outputs": [
    {
     "name": "stderr",
     "output_type": "stream",
     "text": [
      "100%|██████████| 1000/1000 [00:14<00:00, 67.85it/s]"
     ]
    },
    {
     "name": "stdout",
     "output_type": "stream",
     "text": [
      "The chain is shorter than 50 times the integrated autocorrelation time for 1 parameter(s). Use this estimate with caution and run a longer chain!\n",
      "N/50 = 20;\n",
      "tau: [49.08850891]\n",
      "[[Model]]\n",
      "    Model(etatot)\n",
      "[[Fit Statistics]]\n",
      "    # fitting method   = emcee\n",
      "    # function evals   = 100000\n",
      "    # data points      = 3\n",
      "    # variables        = 1\n",
      "    chi-square         = 13833170.4\n",
      "    reduced chi-square = 6916585.21\n",
      "    Akaike info crit   = 48.0319029\n",
      "    Bayesian info crit = 47.1305152\n",
      "[[Variables]]\n",
      "    membrane_thickness:  4e-09 (fixed)\n",
      "    delta:               0 (fixed)\n",
      "    water_visc:          0.000270047 (fixed)\n",
      "    membrane_bulk_visc:  0.00378181 +/- 1.1037e-08 (0.00%) (init = 0.00270047)\n"
     ]
    },
    {
     "name": "stderr",
     "output_type": "stream",
     "text": [
      "\n"
     ]
    }
   ],
   "source": [
    "visc_results = visc_model.fit(totalviscs, eta_params,\n",
    "                              weights = visc_weights,\n",
    "                              box_height = heights, verbose=True, method='emcee')\n",
    "print(visc_results.fit_report())"
   ]
  },
  {
   "cell_type": "code",
   "execution_count": 19,
   "metadata": {},
   "outputs": [
    {
     "data": {
      "text/plain": [
       "13833170.417985363"
      ]
     },
     "execution_count": 19,
     "metadata": {},
     "output_type": "execute_result"
    }
   ],
   "source": [
    "visc_results.chisqr"
   ]
  },
  {
   "cell_type": "code",
   "execution_count": 20,
   "metadata": {},
   "outputs": [
    {
     "data": {
      "text/plain": [
       "Text(0, 0.5, 'total box viscosity\\n ($Pa.s=[[\\\\eta^{3d}]]$)')"
      ]
     },
     "execution_count": 20,
     "metadata": {},
     "output_type": "execute_result"
    },
    {
     "data": {
      "image/png": "[encoded data removed]",
      "text/plain": [
       "<Figure size 432x432 with 2 Axes>"
      ]
     },
     "metadata": {
      "needs_background": "light"
     },
     "output_type": "display_data"
    }
   ],
   "source": [
    "visc_results.plot(numpoints=10)\n",
    "plt.title('DPPC: 313K')\n",
    "plt.xlabel('box height (m)', size=14)\n",
    "plt.ylabel('total box viscosity\\n ($Pa.s=[[\\eta^{3d}]]$)', size=14)"
   ]
  },
  {
   "cell_type": "code",
   "execution_count": 21,
   "metadata": {},
   "outputs": [],
   "source": [
    "plotting_thicks = np.array([3e-9, 3.78e-9, 4e-9, 5e-9])\n",
    "plotting_viscs = np.array([0.00492659, 0.00396724, 0.00376430, 0.00306693])\n",
    "plotting_shears = plotting_viscs*plotting_thicks"
   ]
  },
  {
   "cell_type": "code",
   "execution_count": 22,
   "metadata": {},
   "outputs": [],
   "source": [
    "import matplotlib as mpl\n",
    "mpl.rcParams['xtick.labelsize'] = 14\n",
    "mpl.rcParams['ytick.labelsize'] = 14\n",
    "mpl.rcParams['axes.labelsize'] = 16\n",
    "mpl.rcParams['axes.grid'] = False"
   ]
  },
  {
   "cell_type": "code",
   "execution_count": 28,
   "metadata": {
    "scrolled": false
   },
   "outputs": [
    {
     "data": {
      "image/png": "[encoded data removed]",
      "text/plain": [
       "<Figure size 432x288 with 1 Axes>"
      ]
     },
     "metadata": {
      "needs_background": "light"
     },
     "output_type": "display_data"
    },
    {
     "data": {
      "image/png": "[encoded data removed]",
      "text/plain": [
       "<Figure size 432x288 with 1 Axes>"
      ]
     },
     "metadata": {
      "needs_background": "light"
     },
     "output_type": "display_data"
    },
    {
     "data": {
      "text/plain": [
       "Text(0, 0.5, 'Surface Shear Viscosity\\n ($Pa.m.s$)')"
      ]
     },
     "execution_count": 28,
     "metadata": {},
     "output_type": "execute_result"
    },
    {
     "data": {
      "image/png": "[encoded data removed]",
      "text/plain": [
       "<Figure size 432x288 with 1 Axes>"
      ]
     },
     "metadata": {
      "needs_background": "light"
     },
     "output_type": "display_data"
    }
   ],
   "source": [
    "plt.title('DMPC: 329 K', size=18)\n",
    "plt.plot(plotting_thicks*1e9, plotting_viscs,'.-',ms=10)\n",
    "plt.ylim(bottom=0)\n",
    "plt.xlabel('assumed membrane thickness (nm)', size=14)\n",
    "plt.ylabel('membrane viscosity\\n ($Pa.s=[[\\eta^{3d}]]$)', size=14)\n",
    "\n",
    "plt.show()\n",
    "\n",
    "# plt.figure(figsize=(2,4))\n",
    "plt.title('DMPC: 329 K', size=18)\n",
    "plt.errorbar(plotting_thicks*1e9, plotting_shears, yerr=4.937009317390438e-13*np.ones(4), marker = '.', ms=12)\n",
    "plt.xlabel('Assumed membrane thickness (nm)')\n",
    "plt.ylabel('Surface Shear Viscosity\\n ($Pa.m.s$)')\n",
    "\n",
    "# plt.ylim(bottom=0)\n",
    "plt.ylim((0,1.7e-11))\n",
    "plt.show()\n",
    "\n",
    "plt.title('DMPC: 329 K', size=18)\n",
    "plt.errorbar(plotting_thicks*1e9, plotting_shears, yerr=4.937009317390438e-13*np.ones(4), marker = '.', ms=12, ls='')\n",
    "plt.xlabel('Assumed Membrane Thickness (nm)')\n",
    "plt.ylabel('Surface Shear Viscosity\\n ($Pa.m.s$)')\n",
    "\n",
    "# plt.ylim(bottom=0)\n",
    "# plt.ylim((0,1.7e-11))"
   ]
  },
  {
   "cell_type": "markdown",
   "metadata": {},
   "source": [
    "If $\\gamma$ is the 2d viscosity (to cut down on subscripts):\n",
    "\n",
    "$$\n",
    "\\sigma_\\gamma =\\sqrt{\n",
    "    \\sigma_H^2(\\eta_{tot}-\\eta_w)^2\n",
    "    + \\sigma_{\\eta_{tot}}^2H^2\n",
    "    + \\sigma_h^2\\eta_w^2\n",
    "    + \\sigma_{\\eta_w}^2(H-h)^2\n",
    "}\n",
    "$$"
   ]
  },
  {
   "cell_type": "code",
   "execution_count": 24,
   "metadata": {},
   "outputs": [
    {
     "name": "stdout",
     "output_type": "stream",
     "text": [
      "H = 13e-9 ± 5e-13\n",
      "η_T = 0.0015 ± 3e-05\n",
      "η_w = 0.0003 ± 4.5e-06\n",
      "h = 4e-09 ± 1e-09\n"
     ]
    }
   ],
   "source": [
    "print('H = 13e-9 ±', 5e-13)\n",
    "print('η_T =', 1.5e-3, '±', 3e-5)\n",
    "print('η_w =', 3e-4, '±', 4.5e-6)\n",
    "print('h =', 4e-9, '±', 1e-9)"
   ]
  },
  {
   "cell_type": "code",
   "execution_count": 25,
   "metadata": {},
   "outputs": [
    {
     "data": {
      "text/plain": [
       "4.937009317390438e-13"
      ]
     },
     "execution_count": 25,
     "metadata": {},
     "output_type": "execute_result"
    }
   ],
   "source": [
    "surface_visc_unc = np.sqrt(\n",
    "    5e-13**2 * (1.5e-3 - 3e-4)**2\n",
    "    + 3e-5**2 * 13e-9**2\n",
    "    + 1e-9**2 * 3e-4**2\n",
    "    + 4.5e-6**2 * (13e-9 - 4e-9)**2\n",
    ")\n",
    "surface_visc_unc"
   ]
  },
  {
   "cell_type": "code",
   "execution_count": 26,
   "metadata": {},
   "outputs": [
    {
     "data": {
      "text/plain": [
       "array([4.93700932e-13, 4.93700932e-13, 4.93700932e-13, 4.93700932e-13])"
      ]
     },
     "execution_count": 26,
     "metadata": {},
     "output_type": "execute_result"
    }
   ],
   "source": [
    "4.937009317390438e-13*np.ones(4)"
   ]
  },
  {
   "cell_type": "code",
   "execution_count": null,
   "metadata": {},
   "outputs": [],
   "source": []
  }
 ],
 "metadata": {
  "@webio": {
   "lastCommId": null,
   "lastKernelId": null
  },
  "kernelspec": {
   "display_name": "Python 3",
   "language": "python",
   "name": "python3"
  },
  "language_info": {
   "codemirror_mode": {
    "name": "ipython",
    "version": 3
   },
   "file_extension": ".py",
   "mimetype": "text/x-python",
   "name": "python",
   "nbconvert_exporter": "python",
   "pygments_lexer": "ipython3",
   "version": "3.8.3"
  }
 },
 "nbformat": 4,
 "nbformat_minor": 4
}
