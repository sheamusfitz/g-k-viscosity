{
 "cells": [
  {
   "cell_type": "code",
   "execution_count": 287,
   "metadata": {},
   "outputs": [],
   "source": [
    "import pandas as pd\n",
    "import scipy as sp\n",
    "from scipy import stats\n",
    "import matplotlib.pyplot as plt"
   ]
  },
  {
   "cell_type": "code",
   "execution_count": 310,
   "metadata": {},
   "outputs": [],
   "source": [
    "dopc = sp.zeros((4,5),dtype='object')\n",
    "\n",
    "for i,t in enumerate([293,303,313,323]):\n",
    "    for j in range(5):\n",
    "        dopc[i,j] = sp.load('../dopc-'+str(t)+'/r'+str(j+1)+'/py_short.npz')"
   ]
  },
  {
   "cell_type": "code",
   "execution_count": 311,
   "metadata": {},
   "outputs": [],
   "source": [
    "newarr = sp.zeros((4,5,3))\n",
    "for k in range(5):\n",
    "    for i in range(4):\n",
    "        newarr[i,k,0] = dopc[i,k].f.arr_3[-1]\n",
    "        newarr[i,k,1] = dopc[i,k].f.arr_4[-1]\n",
    "    newarr[:,k,2] = [293,303,313,323]"
   ]
  },
  {
   "cell_type": "code",
   "execution_count": 319,
   "metadata": {},
   "outputs": [
    {
     "data": {
      "text/plain": [
       "Text(0, 0.5, 'Shear Viscosity ($Pa\\\\cdot m\\\\cdot s$)')"
      ]
     },
     "execution_count": 319,
     "metadata": {},
     "output_type": "execute_result"
    },
    {
     "data": {
      "image/png": "[encoded data removed]",
      "text/plain": [
       "<Figure size 432x288 with 1 Axes>"
      ]
     },
     "metadata": {
      "needs_background": "light"
     },
     "output_type": "display_data"
    }
   ],
   "source": [
    "plt.errorbar(x = newarr[:,0,2], y = sp.average(newarr[:,:,0],axis=1,weights=newarr[:,:,1]**(-2)), \n",
    "             yerr = sp.sum(newarr[:,:,1]**2,axis=1)**(1/2), \n",
    "#              yerr = sp.stats.sem(newarr[:,:,0],axis=1),\n",
    "             ls='', marker='.', ms=12, label='Preliminary Results')\n",
    "# plt.plot(newarr[:,:,2], newarr[:,:,0],'s',ms=5)\n",
    "plt.legend()\n",
    "# plt.ylim(1.7e-10,3e-10)\n",
    "plt.errorbar(295,2.33e-10,yerr=1e-11, marker='.',ms=10, label='Final Result Expected Uncertainty')\n",
    "# plt.suptitle('DOPC viscosities',size=18,y=1.05)\n",
    "plt.title('DOPC viscosities',size=18)\n",
    "# plt.title('Results from 12% simulation length',size=15)\n",
    "plt.xlabel('Temperature (K)',size=16)\n",
    "plt.ylabel('Shear Viscosity ($Pa\\cdot m\\cdot s$)',size=16)"
   ]
  },
  {
   "cell_type": "code",
   "execution_count": 275,
   "metadata": {},
   "outputs": [],
   "source": [
    "arr = sp.sum(newarr[:,:,1]**2,axis=1)**(1/2)"
   ]
  },
  {
   "cell_type": "code",
   "execution_count": 278,
   "metadata": {},
   "outputs": [
    {
     "data": {
      "text/plain": [
       "1.2469243643999615e-11"
      ]
     },
     "execution_count": 278,
     "metadata": {},
     "output_type": "execute_result"
    }
   ],
   "source": [
    "arr[0]/sp.sqrt(1/.12)"
   ]
  },
  {
   "cell_type": "code",
   "execution_count": null,
   "metadata": {},
   "outputs": [],
   "source": []
  }
 ],
 "metadata": {
  "kernelspec": {
   "display_name": "Python 3",
   "language": "python",
   "name": "python3"
  },
  "language_info": {
   "codemirror_mode": {
    "name": "ipython",
    "version": 3
   },
   "file_extension": ".py",
   "mimetype": "text/x-python",
   "name": "python",
   "nbconvert_exporter": "python",
   "pygments_lexer": "ipython3",
   "version": "3.7.4"
  }
 },
 "nbformat": 4,
 "nbformat_minor": 2
}
